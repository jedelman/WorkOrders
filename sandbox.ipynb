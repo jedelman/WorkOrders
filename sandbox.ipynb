{
 "cells": [
  {
   "cell_type": "code",
   "execution_count": 3,
   "id": "16ba1858",
   "metadata": {},
   "outputs": [
    {
     "name": "stdout",
     "output_type": "stream",
     "text": [
      "<class 'pandas.core.frame.DataFrame'>\n",
      "RangeIndex: 85188 entries, 0 to 85187\n",
      "Data columns (total 32 columns):\n",
      " #   Column                     Non-Null Count  Dtype  \n",
      "---  ------                     --------------  -----  \n",
      " 0   Work Order Number          85188 non-null  object \n",
      " 1   Category Code              85188 non-null  object \n",
      " 2   Category Description       85188 non-null  object \n",
      " 3   Problem Code               85188 non-null  object \n",
      " 4   Problem Description        85188 non-null  object \n",
      " 5   Reason                     267 non-null    object \n",
      " 6   Primary Task Code          85188 non-null  object \n",
      " 7   Primary Task Description   85188 non-null  object \n",
      " 8   Status Code                85188 non-null  int64  \n",
      " 9   Status Description         85188 non-null  object \n",
      " 10  Status DateTime            85188 non-null  object \n",
      " 11  Created DateTime           85188 non-null  object \n",
      " 12  Start Date                 83437 non-null  object \n",
      " 13  End Date                   81964 non-null  object \n",
      " 14  Last Modified DateTIme     85188 non-null  object \n",
      " 15  Priority                   43826 non-null  object \n",
      " 16  Area                       85187 non-null  object \n",
      " 17  Department                 85188 non-null  object \n",
      " 18  Assigned Crew              7981 non-null   object \n",
      " 19  Inventory Type             85188 non-null  object \n",
      " 20  Actual Labor Cost          85188 non-null  float64\n",
      " 21  Actual Equipment Cost      85188 non-null  float64\n",
      " 22  Actual Material Cost       85188 non-null  float64\n",
      " 23  Contractor Cost            85188 non-null  float64\n",
      " 24  Total Cost                 85188 non-null  float64\n",
      " 25  Street                     31945 non-null  object \n",
      " 26  Maintenance Zone           56861 non-null  object \n",
      " 27  Ward                       56489 non-null  float64\n",
      " 28  Superward                  56489 non-null  float64\n",
      " 29  Civic League               43747 non-null  object \n",
      " 30  Planning District          56497 non-null  object \n",
      " 31  Neighborhood Service Area  56497 non-null  float64\n",
      "dtypes: float64(8), int64(1), object(23)\n",
      "memory usage: 20.8+ MB\n"
     ]
    },
    {
     "name": "stderr",
     "output_type": "stream",
     "text": [
      "/tmp/ipykernel_664/616529821.py:4: DtypeWarning: Columns (5) have mixed types. Specify dtype option on import or set low_memory=False.\n",
      "  work_orders = pd.read_csv(\"Work_Orders_20250609.csv\")\n"
     ]
    }
   ],
   "source": [
    "import pandas as pd\n",
    "import matplotlib.pyplot as plt\n",
    "\n",
    "work_orders = pd.read_csv(\"Work_Orders_20250609.csv\")\n",
    "\n",
    "work_orders.info()\n"
   ]
  },
  {
   "cell_type": "code",
   "execution_count": 4,
   "id": "3d264662",
   "metadata": {},
   "outputs": [
    {
     "data": {
      "text/plain": [
       "[<matplotlib.lines.Line2D at 0x7f018e609c00>,\n",
       " <matplotlib.lines.Line2D at 0x7f018e609bd0>]"
      ]
     },
     "execution_count": 4,
     "metadata": {},
     "output_type": "execute_result"
    },
    {
     "data": {
      "image/png": "[encoded data removed]",
      "text/plain": [
       "<Figure size 640x480 with 1 Axes>"
      ]
     },
     "metadata": {},
     "output_type": "display_data"
    }
   ],
   "source": [
    "\n",
    "plt.plot(work_orders[[\"Ward\", \"Total Cost\"]])"
   ]
  }
 ],
 "metadata": {
  "kernelspec": {
   "display_name": "Python 3",
   "language": "python",
   "name": "python3"
  },
  "language_info": {
   "codemirror_mode": {
    "name": "ipython",
    "version": 3
   },
   "file_extension": ".py",
   "mimetype": "text/x-python",
   "name": "python",
   "nbconvert_exporter": "python",
   "pygments_lexer": "ipython3",
   "version": "3.10.12"
  }
 },
 "nbformat": 4,
 "nbformat_minor": 5
}
