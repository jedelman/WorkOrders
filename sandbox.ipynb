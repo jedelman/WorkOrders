{
 "cells": [
  {
   "cell_type": "code",
   "execution_count": 1,
   "id": "16ba1858",
   "metadata": {},
   "outputs": [
    {
     "data": {
      "application/vnd.jupyter.widget-view+json": {
       "model_id": "99251bf5b53a4feeabdccfa2bc745a20",
       "version_major": 2,
       "version_minor": 0
      },
      "text/plain": [
       "Text(value='', description='Enter App Token:')"
      ]
     },
     "metadata": {},
     "output_type": "display_data"
    },
    {
     "data": {
      "application/vnd.jupyter.widget-view+json": {
       "model_id": "4fe4d84bfd334049af81cf5d00d59d44",
       "version_major": 2,
       "version_minor": 0
      },
      "text/plain": [
       "HBox(children=(NaiveDatetimePicker(value=datetime.datetime(2025, 6, 27, 10, 38, 24, 784541)), NaiveDatetimePic…"
      ]
     },
     "metadata": {},
     "output_type": "display_data"
    },
    {
     "data": {
      "application/vnd.jupyter.widget-view+json": {
       "model_id": "b71531fe965d44d0a15ae274e7deae9a",
       "version_major": 2,
       "version_minor": 0
      },
      "text/plain": [
       "Output()"
      ]
     },
     "metadata": {},
     "output_type": "display_data"
    }
   ],
   "source": [
    "from sodapy import Socrata\n",
    "import cartopy.crs as ccrs\n",
    "import pandas as pd\n",
    "import matplotlib.pyplot as plt\n",
    "import ipywidgets as widgets\n",
    "from getpass import getpass\n",
    "from datetime import datetime, timedelta\n",
    "\n",
    "apptoken = widgets.Text(description=\"Enter App Token:\")\n",
    "startdate = widgets.NaiveDatetimePicker(value = datetime.today())\n",
    "enddate = widgets.NaiveDatetimePicker(value = startdate.value + timedelta(days=7))\n",
    "search = widgets.Button(description=\"Search\")\n",
    "out = widgets.Output()\n",
    "\n",
    "search.on_click(lambda x: get_work_orders(startdate, enddate))\n",
    "\n",
    "display(apptoken, widgets.HBox([startdate, enddate, search]), out)\n",
    "\n",
    "def get_work_orders(startdate, enddate):\n",
    "    work_orders = \"qzfe-wj25\"\n",
    "    client = Socrata(\"data.norfolk.gov\", app_token=apptoken.value)\n",
    "\n",
    "    try:\n",
    "        items = pd.DataFrame(client.get(work_orders, where=f\"start_date between '{startdate.value.isoformat()}' and '{enddate.value.isoformat()}'\"))\n",
    "\n",
    "        out.append_display_data(items)\n",
    "    except Exception as ex:\n",
    "        out.append_display_data(ex)\n",
    "    \n",
    "    client.close()\n"
   ]
  },
  {
   "cell_type": "code",
   "execution_count": 2,
   "id": "3d264662",
   "metadata": {},
   "outputs": [
    {
     "data": {
      "image/png": "[encoded data removed]",
      "text/plain": [
       "<Figure size 640x480 with 1 Axes>"
      ]
     },
     "metadata": {},
     "output_type": "display_data"
    }
   ],
   "source": [
    "#%%\n",
    "import cartopy.io.img_tiles as cimgt\n",
    "google_terrain = cimgt.GoogleTiles(style=\"satellite\")\n",
    "\n",
    "fig = plt.figure()\n",
    "\n",
    "ax = fig.add_subplot(1,1,1,projection=ccrs.PlateCarree())\n",
    "\n",
    "plt.show()"
   ]
  }
 ],
 "metadata": {
  "kernelspec": {
   "display_name": "Python 3",
   "language": "python",
   "name": "python3"
  },
  "language_info": {
   "codemirror_mode": {
    "name": "ipython",
    "version": 3
   },
   "file_extension": ".py",
   "mimetype": "text/x-python",
   "name": "python",
   "nbconvert_exporter": "python",
   "pygments_lexer": "ipython3",
   "version": "3.10.12"
  }
 },
 "nbformat": 4,
 "nbformat_minor": 5
}
