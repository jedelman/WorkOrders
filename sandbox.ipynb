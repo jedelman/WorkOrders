{
 "cells": [
  {
   "cell_type": "code",
   "execution_count": null,
   "id": "16ba1858",
   "metadata": {},
   "outputs": [],
   "source": [
    "from sodapy import Socrata\n",
    "import cartopy.crs as ccrs\n",
    "import pandas as pd\n",
    "import matplotlib.pyplot as plt\n",
    "import ipywidgets as widgets\n",
    "from getpass import getpass\n",
    "from datetime import datetime, timedelta\n",
    "\n",
    "Area = ['Forestry', 'Landscape', 'Traffic', 'Streets', 'Stormwater',\n",
    "       'Street Sweeping', 'Bridges', 'Environmental', 'Streets_Bridges',\n",
    "       'Wastewater', 'Miscellaneous', 'Water Distribution',\n",
    "       'Special Events']\n",
    "cats = pd.read_csv(\"categories.csv\").to_dict()\n",
    "civic_leagues = pd.read_csv(\"civic_leagues.csv\")\n"
   ]
  },
  {
   "cell_type": "code",
   "execution_count": null,
   "id": "e0114d5d",
   "metadata": {},
   "outputs": [
    {
     "data": {
      "application/vnd.jupyter.widget-view+json": {
       "model_id": "d8571418942244288bca2a66ff902e69",
       "version_major": 2,
       "version_minor": 0
      },
      "text/plain": [
       "HBox(children=(Label(value='Enter App Token:'), Text(value='')))"
      ]
     },
     "metadata": {},
     "output_type": "display_data"
    },
    {
     "data": {
      "application/vnd.jupyter.widget-view+json": {
       "model_id": "5dff9ef75f8b444a9d09bb3b0e051106",
       "version_major": 2,
       "version_minor": 0
      },
      "text/plain": [
       "HBox(children=(Dropdown(options=('Forestry', 'Landscape', 'Traffic', 'Streets', 'Stormwater', 'Street Sweeping…"
      ]
     },
     "metadata": {},
     "output_type": "display_data"
    },
    {
     "data": {
      "application/vnd.jupyter.widget-view+json": {
       "model_id": "41ca441d905f41f689439dc1fbb8e89b",
       "version_major": 2,
       "version_minor": 0
      },
      "text/plain": [
       "Output()"
      ]
     },
     "metadata": {},
     "output_type": "display_data"
    }
   ],
   "source": [
    "\n",
    "apptoken = widgets.Text()\n",
    "area = widgets.Dropdown(options=Area)\n",
    "civicleague = widgets.Dropdown(options=civic_leagues['0'].values)\n",
    "startdate = widgets.NaiveDatetimePicker(value = datetime.today())\n",
    "enddate = widgets.NaiveDatetimePicker(value = startdate.value + timedelta(days=7))\n",
    "search = widgets.Button(description=\"Search\")\n",
    "out = widgets.Output()\n",
    "\n",
    "search.on_click(lambda x: get_work_orders(startdate, enddate))\n",
    "\n",
    "display(widgets.HBox([widgets.Label(\"Enter App Token:\"), apptoken]), widgets.HBox([area, civicleague, startdate, enddate, search]), out)\n",
    "\n",
    "def get_work_orders(startdate, enddate):\n",
    "    out.clear_output()\n",
    "    work_orders = \"qzfe-wj25\"\n",
    "    client = Socrata(\"data.norfolk.gov\", app_token=apptoken.value)\n",
    "\n",
    "    query = f\"start_date between '{startdate.value.isoformat()}' and '{enddate.value.isoformat()}'\"\n",
    "    if civicleague.value != \"\":\n",
    "        query += f\" and civic_league='{civicleague.value}'\"\n",
    "    \n",
    "    if area.value != \"\":\n",
    "        query +=  f\" and area='{area.value}'\"\n",
    "\n",
    "    try:\n",
    "        items = pd.DataFrame(client.get(work_orders, where=query))\n",
    "\n",
    "        out.append_display_data(items)\n",
    "    except Exception as ex:\n",
    "        out.append_display_data(ex)\n",
    "    \n",
    "    client.close()\n"
   ]
  },
  {
   "cell_type": "code",
   "execution_count": null,
   "id": "3d264662",
   "metadata": {},
   "outputs": [],
   "source": []
  }
 ],
 "metadata": {
  "kernelspec": {
   "display_name": "Python 3",
   "language": "python",
   "name": "python3"
  },
  "language_info": {
   "codemirror_mode": {
    "name": "ipython",
    "version": 3
   },
   "file_extension": ".py",
   "mimetype": "text/x-python",
   "name": "python",
   "nbconvert_exporter": "python",
   "pygments_lexer": "ipython3",
   "version": "3.10.12"
  }
 },
 "nbformat": 4,
 "nbformat_minor": 5
}
